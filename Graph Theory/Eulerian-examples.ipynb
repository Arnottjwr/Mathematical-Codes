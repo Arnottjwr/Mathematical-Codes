{
 "cells": [
  {
   "cell_type": "code",
   "execution_count": 6,
   "metadata": {},
   "outputs": [
    {
     "ename": "SyntaxError",
     "evalue": "invalid syntax (3455403863.py, line 1)",
     "output_type": "error",
     "traceback": [
      "\u001b[0;36m  Cell \u001b[0;32mIn[6], line 1\u001b[0;36m\u001b[0m\n\u001b[0;31m    from 'Eulerian-Circuit-functions.py' import Eulerian_circuit_1\u001b[0m\n\u001b[0m         ^\u001b[0m\n\u001b[0;31mSyntaxError\u001b[0m\u001b[0;31m:\u001b[0m invalid syntax\n"
     ]
    }
   ],
   "source": [
    "\n",
    "from Eulerian-functions import * \n",
    "import networkx as nx\n",
    "import matplotlib.pyplot as plt\n",
    "fig, axs = plt.subplots(2, 2, figsize=(10, 8))\n",
    "\n",
    "G1 = nx.Graph([{0,1},{0,4},{0,5},{0,6},{1,2},{2,6},{2,3},{2,5},{3,4},{4,5},{4,6},{5,6}])\n",
    "G2 = nx.Graph([{0, 1}, {1, 2}, {2, 3}, {3, 4}, {4, 1}, {1, 3}, {0, 3}])\n",
    "G3 = nx.Graph([{0,1},{1,2},{2,3},{3,4},{4,1},{1,5},{5,0}])\n",
    "G4 = nx.Graph([{0, 1}, {1, 2},{0,2},{0,4},{0,3},{3,4}])\n",
    "\n",
    "nx.draw_networkx(G1, ax=axs[0, 0], pos=nx.circular_layout(G1), node_color=\"g\", edgecolors=\"k\")\n",
    "nx.draw_networkx(G2, ax=axs[0, 1],pos=nx.circular_layout(G2), node_color=\"g\", edgecolors=\"k\")\n",
    "nx.draw_networkx(G3, ax=axs[1, 0],pos=nx.circular_layout(G3), node_color=\"g\", edgecolors=\"k\")\n",
    "nx.draw_networkx(G4, ax=axs[1, 1],pos=nx.circular_layout(G4), node_color=\"g\", edgecolors=\"k\")\n",
    "\n",
    "axs[0, 0].set_title('Eulerian Circuit 1')\n",
    "axs[0, 1].set_title('Eulerian Circuit 2')\n",
    "axs[1, 0].set_title('Eulerian Circuit 3')\n",
    "axs[1, 1].set_title('All Vertices Connected')\n",
    "\n",
    "\n",
    "descriptions = [\n",
    "    (f'Graph with Eulerian circuit {Eulerian_circuit_1(G1)}'),\n",
    "    (f'Graph with Eulerian circuit {Eulerian_circuit_2(G2)}'),\n",
    "    (f'Graph with Eulerian circuit {Eulerian_circuit_3(G3)}'),\n",
    "    (f'Connected Component: {all_positive_degree_vertices_connected(G4)}')]\n",
    "\n",
    "for i, ax in enumerate(axs.flatten()):\n",
    "    ax.text(0.5, -0.3, descriptions[i], transform=ax.transAxes, ha='center', fontsize=10, wrap=True)\n",
    "    ax.axis('on')\n",
    "\n",
    "plt.subplots_adjust(wspace=0.3, hspace=0.5)\n",
    "plt.show()\n"
   ]
  },
  {
   "cell_type": "code",
   "execution_count": null,
   "metadata": {},
   "outputs": [],
   "source": []
  }
 ],
 "metadata": {
  "kernelspec": {
   "display_name": "Python 3",
   "language": "python",
   "name": "python3"
  },
  "language_info": {
   "codemirror_mode": {
    "name": "ipython",
    "version": 3
   },
   "file_extension": ".py",
   "mimetype": "text/x-python",
   "name": "python",
   "nbconvert_exporter": "python",
   "pygments_lexer": "ipython3",
   "version": "3.11.1 (v3.11.1:a7a450f84a, Dec  6 2022, 15:24:06) [Clang 13.0.0 (clang-1300.0.29.30)]"
  },
  "orig_nbformat": 4,
  "vscode": {
   "interpreter": {
    "hash": "aee8b7b246df8f9039afb4144a1f6fd8d2ca17a180786b69acc140d282b71a49"
   }
  }
 },
 "nbformat": 4,
 "nbformat_minor": 2
}
